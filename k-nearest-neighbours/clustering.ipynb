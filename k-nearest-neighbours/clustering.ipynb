{
 "cells": [
  {
   "cell_type": "code",
   "execution_count": 3,
   "id": "initial_id",
   "metadata": {
    "ExecuteTime": {
     "end_time": "2025-05-13T20:46:23.507708Z",
     "start_time": "2025-05-13T20:46:23.498284Z"
    },
    "collapsed": true
   },
   "outputs": [],
   "source": [
    "import numpy as np"
   ]
  },
  {
   "cell_type": "markdown",
   "id": "c84ad452",
   "metadata": {},
   "source": [
    "# Cluster centres"
   ]
  },
  {
   "cell_type": "code",
   "execution_count": null,
   "id": "e351dac3",
   "metadata": {},
   "outputs": [],
   "source": [
    "def cluster_centre(input_list):\n",
    "    output_list = np.zeros(shape=(3,2))\n",
    "    for i in range(0, 6, 2):\n",
    "        point = np.array([input_list[i], input_list[i+1]])\n",
    "        output_list[int(i/2)] = point\n",
    "        \n",
    "    return output_list\n",
    "\n",
    "def make_cluster_centres():\n",
    "    input_list = np.array([])\n",
    "    for i in range(6):\n",
    "        coordinate = input()\n",
    "        input_list = np.append(input_list, coordinate)\n",
    "        \n",
    "    return cluster_centre(input_list)"
   ]
  },
  {
   "cell_type": "markdown",
   "id": "d5901199",
   "metadata": {},
   "source": [
    "# k-means algorithm"
   ]
  },
  {
   "cell_type": "code",
   "execution_count": null,
   "id": "9397e9f4",
   "metadata": {},
   "outputs": [],
   "source": [
    "\n",
    "def stopping_condition(centre_prev, centre_curr):\n",
    "    return True if (abs(centre_curr - centre_prev).all()==np.array([0,0,0]).all()) else False\n",
    "\n",
    "def euclidean_distance(point_1, point_2):\n",
    "    distance = 0\n",
    "    for i in range(len(point_1)):\n",
    "        distance += pow(point_1[i] - point_2[i], 2)\n",
    "    return pow(distance,0.5)\n",
    "\n",
    "def euclidean_list(point, cluster_centres):\n",
    "    min = np.iinfo(np.int64).max\n",
    "    index = 0\n",
    "    counter = 0\n",
    "    \n",
    "    for centre in cluster_centres:\n",
    "        distance = euclidean_distance(point, centre)\n",
    "        if (min > distance):\n",
    "            min = distance \n",
    "            index = counter\n",
    "        counter += 1\n",
    "        \n",
    "    return index\n",
    "    \n",
    "def get_avg(points):\n",
    "    coords = np.zeros(shape=(len(points[0])))\n",
    "    for point in points:\n",
    "        for i in range(len(point)):\n",
    "            coords[i] += point[i]\n",
    "        \n",
    "    for i in range(len(coords)):\n",
    "        coords[i] /= len(points)\n",
    "    \n",
    "    return coords    \n",
    "        \n",
    "def k_means(cluster_centres, data):\n",
    "    centre_prev = np.array([0,0,0])\n",
    "    centre_curr = np.array([1,1,1])\n",
    "    clusters = {\n",
    "        0:[],\n",
    "        1:[],\n",
    "        2:[]    \n",
    "    }\n",
    "    \n",
    "    while not stopping_condition(centre_prev, centre_curr):\n",
    "        centre_prev =np.copy(cluster_centres)    \n",
    "        clusters = {\n",
    "            0:[],\n",
    "            1:[],\n",
    "            2:[]    \n",
    "        }\n",
    "        for point in data:\n",
    "            index = euclidean_list(point, cluster_centres)\n",
    "            clusters[index].append(point)            \n",
    "            \n",
    "        counter = 0\n",
    "        for cluster in clusters.values():\n",
    "            cluster_centres[counter] = get_avg(cluster)\n",
    "            counter += 1           \n",
    "        centre_curr = np.copy(cluster_centres)\n",
    "    \n",
    "    return cluster_centres, clusters"
   ]
  },
  {
   "cell_type": "markdown",
   "id": "141b3a20",
   "metadata": {},
   "source": [
    "# Compute loss"
   ]
  },
  {
   "cell_type": "code",
   "execution_count": null,
   "id": "bda1f6db",
   "metadata": {},
   "outputs": [],
   "source": [
    "def loss(clusters, cluster_centres, k):\n",
    "    error = 0\n",
    "    for i in range(k):\n",
    "        distance_error = 0\n",
    "        cluster = clusters[i]\n",
    "        for point in cluster:\n",
    "            distance_error += pow(euclidean_distance(point, cluster_centres[i]), 2)\n",
    "        error+=distance_error\n",
    "    \n",
    "    return error"
   ]
  },
  {
   "cell_type": "code",
   "execution_count": null,
   "id": "f9ec29ba",
   "metadata": {},
   "outputs": [],
   "source": [
    "# main function\n",
    "\n",
    "# number of clusters\n",
    "k=3\n",
    "\n",
    "# dataset\n",
    "data = np.array([[0.22,0.33],\n",
    "                [0.45,0.76],\n",
    "                [0.73,0.39],\n",
    "                [0.25,0.35],\n",
    "                [0.51,0.69],\n",
    "                [0.69,0.42],\n",
    "                [0.41,0.49],\n",
    "                [0.15,0.29],\n",
    "                [0.81,0.32],\n",
    "                [0.50,0.88],\n",
    "                [0.23,0.31],\n",
    "                [0.77,0.30],\n",
    "                [0.56,0.75],\n",
    "                [0.11,0.38],\n",
    "                [0.81,0.33],\n",
    "                [0.59,0.77],\n",
    "                [0.10,0.89],\n",
    "                [0.55,0.09],\n",
    "                [0.75,0.35],\n",
    "                [0.44,0.55]])\n",
    "\n",
    "cluster_centres = make_cluster_centres()\n",
    "\n",
    "cluster_centres, clusters = k_means(cluster_centres, data)\n",
    "\n",
    "print(loss(clusters, cluster_centres, k))"
   ]
  },
  {
   "cell_type": "code",
   "execution_count": 7,
   "id": "5c243f7a",
   "metadata": {},
   "outputs": [
    {
     "name": "stdout",
     "output_type": "stream",
     "text": [
      "valid\n",
      "[-2  0  2]\n"
     ]
    }
   ],
   "source": [
    "# testing ground\n",
    "\n",
    "clusters = np.array([[1,2,3]])\n",
    "\n",
    "clusters = np.append(clusters, [[1,2,3]], axis=0)\n",
    "\n",
    "dictionary = {\n",
    "    1:[],\n",
    "    2:[],\n",
    "    3:[]    \n",
    "}\n",
    "\n",
    "dictionary[1].append([1,2,3])\n",
    "\n",
    "coords = np.zeros(shape=(1,3))\n",
    "\n",
    "difference = np.array([1,2,3]) - np.array([3,2,1])\n",
    "\n",
    "if difference.all() == np.array([-2, 0, 2]).all():\n",
    "    print(\"valid\")\n",
    "\n",
    "\n",
    "print(difference)"
   ]
  },
  {
   "cell_type": "code",
   "execution_count": null,
   "id": "49b28d70",
   "metadata": {},
   "outputs": [],
   "source": []
  }
 ],
 "metadata": {
  "kernelspec": {
   "display_name": "venv",
   "language": "python",
   "name": "python3"
  },
  "language_info": {
   "codemirror_mode": {
    "name": "ipython",
    "version": 3
   },
   "file_extension": ".py",
   "mimetype": "text/x-python",
   "name": "python",
   "nbconvert_exporter": "python",
   "pygments_lexer": "ipython3",
   "version": "3.12.3"
  }
 },
 "nbformat": 4,
 "nbformat_minor": 5
}
